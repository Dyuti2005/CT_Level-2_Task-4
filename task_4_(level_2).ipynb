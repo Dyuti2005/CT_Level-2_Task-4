{
  "nbformat": 4,
  "nbformat_minor": 0,
  "metadata": {
    "colab": {
      "provenance": []
    },
    "kernelspec": {
      "name": "python3",
      "display_name": "Python 3"
    },
    "language_info": {
      "name": "python"
    }
  },
  "cells": [
    {
      "cell_type": "code",
      "execution_count": 6,
      "metadata": {
        "colab": {
          "base_uri": "https://localhost:8080/"
        },
        "id": "VV1C9U1CTX5W",
        "outputId": "24099b05-afc7-4719-fdbf-bff286caa2cd"
      },
      "outputs": [
        {
          "output_type": "stream",
          "name": "stdout",
          "text": [
            "Average Ratings:\n",
            "      is_chain  aggregate_rating\n",
            "0        Chain          2.789926\n",
            "1  Independent          2.614109\n",
            "\n",
            "Average Votes:\n",
            "      is_chain       votes\n",
            "0        Chain  179.874604\n",
            "1  Independent  147.196216\n",
            "\n",
            "Top 5 Most Frequent Chains:\n",
            "restaurant_name\n",
            "Cafe Coffee Day     83\n",
            "Domino's Pizza      79\n",
            "Subway              63\n",
            "Green Chick Chop    51\n",
            "McDonald's          48\n",
            "Name: count, dtype: int64\n"
          ]
        }
      ],
      "source": [
        "import pandas as pd\n",
        "\n",
        "# Step 1: Load the dataset\n",
        "df = pd.read_excel('Dataset .xlsx')\n",
        "\n",
        "# Step 2: Clean column names if needed\n",
        "df.columns = df.columns.str.strip().str.lower().str.replace(' ', '_')\n",
        "\n",
        "# Step 3: Count how many times each restaurant name appears\n",
        "name_counts = df['restaurant_name'].value_counts()\n",
        "\n",
        "# Step 4: Identify chains (names that appear more than once)\n",
        "chains = name_counts[name_counts > 1].index\n",
        "\n",
        "# Step 5: Add a new column to label chains vs non-chains\n",
        "df['is_chain'] = df['restaurant_name'].apply(lambda x: 'Chain' if x in chains else 'Independent')\n",
        "\n",
        "# Step 6: Compare average ratings\n",
        "rating_comparison = df.groupby('is_chain')['aggregate_rating'].mean().reset_index()\n",
        "print(\"Average Ratings:\")\n",
        "print(rating_comparison)\n",
        "\n",
        "# Step 7: Compare average votes (popularity)\n",
        "vote_comparison = df.groupby('is_chain')['votes'].mean().reset_index()\n",
        "print(\"\\nAverage Votes:\")\n",
        "print(vote_comparison)\n",
        "\n",
        "# Step 8: Optional – List top 5 most frequent chains\n",
        "top_chains = name_counts[name_counts > 1].sort_values(ascending=False).head(5)\n",
        "print(\"\\nTop 5 Most Frequent Chains:\")\n",
        "print(top_chains)"
      ]
    }
  ]
}